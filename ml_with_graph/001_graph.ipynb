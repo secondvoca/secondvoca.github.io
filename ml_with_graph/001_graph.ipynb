{
 "cells": [
  {
   "cell_type": "markdown",
   "id": "98918502",
   "metadata": {},
   "source": [
    "- graph는 image나 text 같은 (grid, sequence) 정형이 아닌 데이터를 다루기 위한 수학이다.\n",
    "- $f(\\cdot)\\rightarrow\\mathbb{R}^d$, 이 표현처럼 graph를 대상으로 하는 처리는 4가지다.\n",
    "- node, edge(pair of two nodes), subgraph, graph\n",
    "\n",
    "| node | edge(pair of two nodes) | subgraph | graph |\n",
    "|:--------:|:--------:|:--------:|:--------:|\n",
    "|  protein folding   |  recommandation   |  traffic prediction   | antibiotic discovery |\n",
    "|  .   |  side effect   |  .   | physics simulation |"
   ]
  }
 ],
 "metadata": {
  "language_info": {
   "name": "python"
  }
 },
 "nbformat": 4,
 "nbformat_minor": 5
}
