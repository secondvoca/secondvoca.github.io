{
 "cells": [
  {
   "cell_type": "markdown",
   "id": "98918502",
   "metadata": {},
   "source": [
    "- graph는 image나 text 같은 (grid, sequence) 정형이 아닌 데이터를 다루기 위한 수학이다.\n",
    "- $f(\\cdot)\\rightarrow\\mathbb{R}^d$, 이 표현처럼 graph를 대상으로 하는 처리는 4가지다.\n",
    "- node, edge(pair of two nodes), subgraph, graph\n",
    "\n",
    "| node | edge(pair of two nodes) | subgraph | graph |\n",
    "|:--------:|:--------:|:--------:|:--------:|\n",
    "|  protein folding   |  recommandation   |  traffic prediction   | antibiotic discovery |\n",
    "|  .   |  side effect   |  .   | physics simulation |"
   ]
  },
  {
   "cell_type": "code",
   "execution_count": 7,
   "metadata": {},
   "outputs": [
    {
     "data": {
      "text/plain": [
       "array([1, 2, 1])"
      ]
     },
     "execution_count": 7,
     "metadata": {},
     "output_type": "execute_result"
    }
   ],
   "source": [
    "import numpy as np\n",
    "\n",
    "a = np.array([\n",
    "    [0,1,0],\n",
    "    [1,0,1],\n",
    "    [0,1,0]\n",
    "])\n",
    "\n",
    "d = a.sum(axis=1)\n",
    "d"
   ]
  },
  {
   "cell_type": "code",
   "execution_count": 10,
   "id": "a94c71ef",
   "metadata": {},
   "outputs": [
    {
     "data": {
      "text/plain": [
       "array([[0.        , 0.70710678, 0.        ],\n",
       "       [0.70710678, 0.        , 0.70710678],\n",
       "       [0.        , 0.70710678, 0.        ]])"
      ]
     },
     "execution_count": 10,
     "metadata": {},
     "output_type": "execute_result"
    }
   ],
   "source": [
    "np.diag(d**-0.5) @ a @ np.diag(d**-0.5)"
   ]
  }
 ],
 "metadata": {
  "kernelspec": {
   "display_name": "base",
   "language": "python",
   "name": "python3"
  },
  "language_info": {
   "codemirror_mode": {
    "name": "ipython",
    "version": 3
   },
   "file_extension": ".py",
   "mimetype": "text/x-python",
   "name": "python",
   "nbconvert_exporter": "python",
   "pygments_lexer": "ipython3",
   "version": "3.12.7"
  }
 },
 "nbformat": 4,
 "nbformat_minor": 5
}
