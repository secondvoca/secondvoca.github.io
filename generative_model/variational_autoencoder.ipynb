{
 "cells": [
  {
   "cell_type": "markdown",
   "id": "47311b7c",
   "metadata": {},
   "source": [
    "# Derivation of the loss function\n",
    "\n",
    "\n",
    "\n",
    "<div class=\"alert alert-block alert-info\">\n",
    "<b>Tip:</b> Use blue boxes (alert-info) for tips and notes. \n",
    "If it’s a note, you don’t have to include the word “Note”.\n",
    "</div>\n",
    "\n",
    "We want a model that maximizes the likelihood, $p(x)$ <br>\n",
    "$p(x)$ can be expressed with a latent variable as $p(x|z)$ <br>\n",
    "and with logarithm, $\\log p(x|z)$ <br>\n",
    "We can get \n",
    "$$\\log p(x) = \\int \\log p(x|z)p(z)dz$$\n",
    "It is not successful because the untractability (due to the real implematation of motecarlo method) <br>\n",
    "Introducing an ideal sampling function $p(z|x)$<br>\n",
    "$$\\log p(x) = \\int \\log p(x|z)p(z|x)dz$$\n",
    "$$= \\int \\log \\frac{p(x|z)q_\\phi(z|x)}{q_\\phi(z|x)}p(z|x)dz$$\n",
    "and it's approximation functions $p(z|x) \\approx q_\\phi(z|x)$ <br>\n",
    "$$\\log p(x) \\approx \\int \\log p(x|z)q_\\phi(z|x)dz$$"
   ]
  }
 ],
 "metadata": {
  "language_info": {
   "name": "python"
  }
 },
 "nbformat": 4,
 "nbformat_minor": 5
}
