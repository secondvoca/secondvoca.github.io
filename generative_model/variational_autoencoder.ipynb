{
 "cells": [
  {
   "cell_type": "markdown",
   "id": "47311b7c",
   "metadata": {},
   "source": [
    "# Variational Autoencoder\n",
    "## Derivation of the loss function\n",
    "\n",
    "주어진 훈련 데이터 샘플 집합 $X$에 대하여, likelihood $L(\\theta|X)$ 가 최대인 모델을 찾는 것이 목적이다. 이 때,\n",
    "$$L(\\theta|X)=p(X|\\theta)$$\n",
    "이고,\n",
    "$$\\log p(X|\\theta)=\\log p(x_1,x_2,\\dots,x_n|\\theta)$$\n",
    "i.i.d. 가정하에서\n",
    "$$=\\log \\prod_{i=1}^n p(x_i|\\theta)$$\n",
    "$$=\\log p(x_1|\\theta)+\\log p(x_1|\\theta)+\\dots+\\log p(x_n|\\theta)$$\n",
    "$$=\\sum_{i=1}^n \\log p(x_i|\\theta)$$\n",
    "이다.<br>\n",
    "\n",
    "여기서 잠재 변수 $z$와 샘플링 함수 $q_\\phi(z|x)$를 도입해서\n",
    "$$\\int q_\\phi(z|x)dz=1$$\n",
    "$$\\log p(x)=\\int (\\log p(x))q_\\phi(z|x)dz$$\n",
    "여기서,\n",
    "$$p(x,z)=p(z|x)p(x)$$\n",
    "이므로\n",
    "$$\\log p(x)=\\int (\\log \\frac{p(x,z)}{p(z|x)})q_\\phi(z|x)dz$$\n",
    "$$=\\int (\\log \\frac{p(x,z)q_\\phi(z|x)}{p(z|x)q_\\phi(z|x)})q_\\phi(z|x)dz$$\n",
    "$$=\\int (\\log \\frac{p(x,z)}{q_\\phi(z|x)})q_\\phi(z|x)+(\\log \\frac{q_\\phi(z|x)}{p(z|x)})q_\\phi(z|x)dz$$\n",
    "$$=\\int (\\log \\frac{p(x,z)}{q_\\phi(z|x)})q_\\phi(z|x)dz+KL(q_\\phi(z|x)||p(z|x))$$\n",
    "이 때,\n",
    "$$KL(q_\\phi(z|x)||p(z|x))\\geq0$$\n",
    "이므로\n",
    "$$\\log p(x)\\geq\\int (\\log \\frac{p(x,z)}{q_\\phi(z|x)})q_\\phi(z|x)dz=ELBO$$\n",
    "ELBO 최대화 문제를 정리하면,\n",
    "$$ELBO=\\int (\\log \\frac{p(x,z)}{q_\\phi(z|x)})q_\\phi(z|x)dz$$\n",
    "$$=\\int (\\log \\frac{p(x|z)p(z)}{q_\\phi(z|x)})q_\\phi(z|x)dz$$\n",
    "$$=\\int (\\log p(x|z))q_\\phi(z|x)+(\\log \\frac{p(z)}{q_\\phi(z|x)})q_\\phi(z|x)dz$$\n",
    "$$=\\int (\\log p(x|z))q_\\phi(z|x)dz-KL(q_\\phi(z|x)||p(z))$$\n",
    "$$=\\mathbb{E}_{z\\sim q_\\phi(z|x)}[\\log p(x|z)]-KL(q_\\phi(z|x)||p(z))$$\n",
    "이다.<br><br>\n",
    "따라서 $\\log p(x)$ 최대화 문제를 \n",
    "$$\\mathbb{E}_{z\\sim q_\\phi(z|x)}[\\log p(x|z)]$$\n",
    "를 크게\n",
    "$$KL(q_\\phi(z|x)||p(z))$$\n",
    "를 작게하는 것으로 풀게 된다."
   ]
  }
 ],
 "metadata": {
  "language_info": {
   "name": "python"
  }
 },
 "nbformat": 4,
 "nbformat_minor": 5
}
