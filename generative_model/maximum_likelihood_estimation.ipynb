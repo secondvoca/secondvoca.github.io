{
 "cells": [
  {
   "cell_type": "markdown",
   "id": "89dd5846",
   "metadata": {},
   "source": [
    "- 확률 분포에서 샘플링하기\n",
    "- 확보된 샘플에서 가장 그럴듯한 확률 모델을 추정하기\n",
    "- 그 한 가지 방법으로의 최대우도법\n",
    "- 최대우도법으로 선택된 확률 모델은 생성 모델임"
   ]
  },
  {
   "cell_type": "markdown",
   "id": "792151cc",
   "metadata": {},
   "source": [
    "# Traditional View of the output of a model\n",
    "- 전통적인 관점에서 머신러닝 모델의 목표는 훈련 집합 (또는 주어진 샘플) $X, Y$에 대하여, 집합 $X$의 각 원소에 대응하는 $Y$의 원소로의 맵핑 함수 $f_\\theta(x)$를 가능한 한 잘 근사하는 것이다. 모델의 출력과 정답 $Y$ 사이의 오차를 측정하는 함수를 $\\epsilon$이라고 할 때, 머신러닝의 목표는 아래처럼 쓸 수 있다.\n",
    "\n",
    "$$\n",
    "\\theta^* = \\operatorname*{arg\\,min}_{\\theta} \\epsilon(X, Y, \\theta)\n",
    "$$\n",
    "\n",
    "- 모델의 출력과 정답의 차이를 재는 방법으로 가장 널리 쓰이는 것이 mean squared error(MSE)다.\n",
    "$$\n",
    "\\operatorname*{MSE}=\\frac{1}{n}\\sum_i\\left( y_i-f(x_i) \\right)^2\n",
    "$$"
   ]
  },
  {
   "cell_type": "markdown",
   "id": "9e03fdba",
   "metadata": {},
   "source": [
    "# The Perspective of Estimating Distribution\n",
    "- 한편, 똑같은 행위를 분포를 추정하는 과정으로 이해할 수 있다. 우리가 가정하는 정답 분포가 분산이 1인 Gaussian 분포라고 하면,\n",
    "- 모델의 출력은 Gaussian 분포의 파라메터 $\\mu$에 대한 추정이다.\n",
    "- 분포 추정의 한 방식인 Maximum Likelihood Estimation을 따라 아래와 같은 최적화 목적식을 얻는다.\n",
    "$$\n",
    "\\mu_i=f(x_i) \\\\\n",
    "l_\\theta = \\frac{1}{\\sqrt{2\\pi}}e^{-(y-\\mu)^2/2} \\\\\n",
    "\\operatorname*{MLE}=\\operatorname*{arg\\,max}_{\\theta} \\frac{1}{n}\\sum_i\\left( y_i-f(x_i) \\right)^2\n",
    "$$"
   ]
  }
 ],
 "metadata": {
  "language_info": {
   "name": "python"
  }
 },
 "nbformat": 4,
 "nbformat_minor": 5
}
